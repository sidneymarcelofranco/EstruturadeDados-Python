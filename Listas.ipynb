{
 "cells": [
  {
   "attachments": {},
   "cell_type": "markdown",
   "metadata": {},
   "source": [
    "# Definição Lista\n",
    "Uma lista é uma coleção ordenada e mutável de valores que podem ser de diferentes tipos de dados. As listas são criadas usando colchetes [] e os elementos são separados por vírgulas. Você pode adicionar, remover ou modificar itens em uma lista a qualquer momento. Aqui está um exemplo simples.\n",
    "Características:\n",
    "* Uso de colchetes [];\n",
    "* Uso de elementos separados por vírgula;\n",
    "* Listas mutáveis;\n",
    "* Índice iniciado por zero;"
   ]
  },
  {
   "cell_type": "code",
   "execution_count": null,
   "metadata": {},
   "outputs": [],
   "source": [
    "%%time # Operador mágico do jupiter notebook, calcula o tempo de execução do jupiter\n",
    "lista = [1, 2, 3, \"quatro\", \"cinco\"]\n",
    "print(lista)\n",
    "print('Retorna o Type da Lista :' + str(type(lista)))\n",
    "print('================')\n",
    "print('Retorno da Lista indice 3: ' + lista[3])\n",
    "print('================')"
   ]
  },
  {
   "attachments": {},
   "cell_type": "markdown",
   "metadata": {},
   "source": [
    "# Criando Listas com a função List\n",
    "Também podemos utilizar a função list do próprio Python (built-in function):"
   ]
  },
  {
   "cell_type": "code",
   "execution_count": null,
   "metadata": {},
   "outputs": [],
   "source": [
    "lista = list([\"Python Academy\"])\n",
    "print(lista)"
   ]
  },
  {
   "attachments": {},
   "cell_type": "markdown",
   "metadata": {},
   "source": [
    "# Lista com função Range\n",
    "Podemos ainda criar listas através da função range(), dessa forma:"
   ]
  },
  {
   "cell_type": "code",
   "execution_count": null,
   "metadata": {},
   "outputs": [],
   "source": [
    "list(range(10))"
   ]
  },
  {
   "attachments": {},
   "cell_type": "markdown",
   "metadata": {},
   "source": [
    "# Acessando dados da lista\n",
    "Em Python os índices são iniciados em 0."
   ]
  },
  {
   "cell_type": "code",
   "execution_count": null,
   "metadata": {},
   "outputs": [],
   "source": [
    "frutas = ['Maça', 'Banana', 'Jaca', 'Melão', 'Abacaxi']\n",
    "# indices    0       1         2       3         4\n",
    "print(frutas[0])"
   ]
  },
  {
   "attachments": {},
   "cell_type": "markdown",
   "metadata": {},
   "source": [
    "# Indexação negativa\n",
    "O ultimo elemento é indice -1"
   ]
  },
  {
   "cell_type": "code",
   "execution_count": null,
   "metadata": {},
   "outputs": [],
   "source": [
    "frutas = ['Maça', 'Banana', 'Jaca', 'Melão', 'Abacaxi']\n",
    "# indices   -5       -4       -3       -2        -1\n",
    "print(frutas[-1])"
   ]
  },
  {
   "attachments": {},
   "cell_type": "markdown",
   "metadata": {},
   "source": [
    "# Lista dentro de lista\n",
    "Em uma lista dentro de uma lista, como podemos acessar o primeiro índice do item que é uma lista?"
   ]
  },
  {
   "cell_type": "code",
   "execution_count": null,
   "metadata": {},
   "outputs": [],
   "source": [
    "lista = ['item1', ['python', 'Academy'], 'item3']\n",
    "sublista = lista[1]\n",
    "print(sublista[0])\n",
    "# Ou ainda mais resumido\n",
    "print(lista[1][0])"
   ]
  },
  {
   "attachments": {},
   "cell_type": "markdown",
   "metadata": {},
   "source": [
    "# Fatiando uma lista (slicing)\n",
    "O fatiamento de listas, do inglês slicing, é a extração de um conjunto de elementos contidos numa lista. Ele é feito da seguinte forma:\n",
    "### lista[ inicio : fim : passo ]\n",
    "Explicando cada elemento:\n",
    "\n",
    "* início se refere ao índice de início do fatiamento.\n",
    "* fim se refere ao índice final do fatiamento. A lista final não vai conter esse elemento.\n",
    "* passo é um parâmetro opcional e é utilizado para se pular elementos da lista original\n",
    "Se quisermos criar uma fatia de uma lista do índice 2 ao 4, podemos fazer da seguinte forma:"
   ]
  },
  {
   "cell_type": "code",
   "execution_count": null,
   "metadata": {},
   "outputs": [],
   "source": [
    "lista = [10, 20, 30, 40, 50, 60]\n",
    "print(lista[2:5])\n",
    "# O slicing conta a partir do índice 2 até o índice 5 (mas não o utiliza), pegando os índices 2, 3, 4."
   ]
  },
  {
   "attachments": {},
   "cell_type": "markdown",
   "metadata": {},
   "source": [
    "# Percorrendo listas\n",
    "A forma mais comum de percorrer os elementos em uma lista é com um `loop for elemento in lista`, assim:"
   ]
  },
  {
   "cell_type": "code",
   "execution_count": null,
   "metadata": {},
   "outputs": [],
   "source": [
    "lista = [10, 20, 30, 40, 50, 60]\n",
    "for num in lista:\n",
    "    print(num)"
   ]
  },
  {
   "attachments": {},
   "cell_type": "markdown",
   "metadata": {},
   "source": [
    "# Listas com a função Enumerate\n",
    "Com a função enumerate() podemos percorrer também o índice referente a cada valor da lista:"
   ]
  },
  {
   "cell_type": "code",
   "execution_count": null,
   "metadata": {},
   "outputs": [],
   "source": [
    "lista = [10, 20, 30, 40, 50, 60]\n",
    "\n",
    "for indice, valor in enumerate(lista):\n",
    "    print(f'índice={indice}, valor={valor}')\n"
   ]
  },
  {
   "attachments": {},
   "cell_type": "markdown",
   "metadata": {},
   "source": [
    "# List Comprehension\n",
    "A sintaxe básica de uma compreensão de lista é a seguinte:\n",
    "### [novo_elemento for elemento in iterável]"
   ]
  },
  {
   "cell_type": "code",
   "execution_count": null,
   "metadata": {},
   "outputs": [],
   "source": [
    "lista = [10, 20, 30, 40, 50, 60]\n",
    "[print(num) for num in lista]\n",
    "\n",
    "# Com enumerate:\n",
    "[print(f'índice={indice}, valor={valor}') for indice, valor in enumerate(lista)]"
   ]
  },
  {
   "attachments": {},
   "cell_type": "markdown",
   "metadata": {},
   "source": [
    "Criar uma nova lista onde cada elemento é o resultado de novo_elemento para cada elemento em iterável. Por exemplo, se quisermos criar uma lista com o dobro dos números de 0 a 4"
   ]
  },
  {
   "cell_type": "code",
   "execution_count": null,
   "metadata": {},
   "outputs": [],
   "source": [
    "dobros = [x*2 for x in range(5)]\n",
    "print(dobros)\n",
    "# Podemos ver que cada número de 0 a 4 foi dobrado na nova lista.\n",
    "# 0*2; 1*2; 2*2; 3*2; 4*2.    "
   ]
  },
  {
   "attachments": {},
   "cell_type": "markdown",
   "metadata": {},
   "source": [
    "# Múltiplas iterações\n",
    "Podemos usar múltiplas iterações em uma compreensão de lista, permitindo que criemos uma lista que depende de mais de uma variável. Por exemplo, se quisermos criar uma lista com todas as combinações de dois elementos de duas listas diferentes, podemos fazer o seguinte:"
   ]
  },
  {
   "cell_type": "code",
   "execution_count": null,
   "metadata": {},
   "outputs": [],
   "source": [
    "lista1 = [1, 2, 3]\n",
    "lista2 = ['a', 'b', 'c']\n",
    "combinacoes = [(x, y) for x in lista1 for y in lista2]\n",
    "print(combinacoes)"
   ]
  },
  {
   "attachments": {},
   "cell_type": "markdown",
   "metadata": {},
   "source": [
    "# Considerações finais\n",
    "As compreensões de lista são uma maneira poderosa e concisa de criar listas em Python. Elas podem ser usadas para criar listas com base em um único objeto iterável, ou com base em vários objetos iteráveis ​​usando múltiplas iterações. Além disso, elas podem ser usadas para adicionar condições a uma lista.\n",
    "\n",
    "No entanto, devemos ter cuidado ao usar compreensões de lista. Se a compreensão de lista for muito complexa, pode ser difícil de ler e entender. Além disso, é importante lembrar que, embora as compreensões de lista possam tornar o código mais conciso, isso nem sempre significa que elas são mais eficientes em termos de desempenho.\n",
    "\n",
    "Fonte:\n",
    "\n",
    "- https://pythonacademy.com.br/blog/listas-no-python  \n",
    "- https://www.usandopy.com/pt/artigo/estruturas-de-dados-com-python-introducao/"
   ]
  }
 ],
 "metadata": {
  "kernelspec": {
   "display_name": "Python 3",
   "language": "python",
   "name": "python3"
  },
  "language_info": {
   "codemirror_mode": {
    "name": "ipython",
    "version": 3
   },
   "file_extension": ".py",
   "mimetype": "text/x-python",
   "name": "python",
   "nbconvert_exporter": "python",
   "pygments_lexer": "ipython3",
   "version": "3.11.1"
  },
  "orig_nbformat": 4,
  "vscode": {
   "interpreter": {
    "hash": "82598311c294112fec671bac54a40afb6229bf92528f16b606b08d63396a3a1e"
   }
  }
 },
 "nbformat": 4,
 "nbformat_minor": 2
}
